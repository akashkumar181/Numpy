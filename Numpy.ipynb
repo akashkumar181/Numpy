{
  "nbformat": 4,
  "nbformat_minor": 0,
  "metadata": {
    "colab": {
      "provenance": [],
      "authorship_tag": "ABX9TyNO7Iw1VlyD/YCW4mAR8lCV",
      "include_colab_link": true
    },
    "kernelspec": {
      "name": "python3",
      "display_name": "Python 3"
    },
    "language_info": {
      "name": "python"
    }
  },
  "cells": [
    {
      "cell_type": "markdown",
      "metadata": {
        "id": "view-in-github",
        "colab_type": "text"
      },
      "source": [
        "<a href=\"https://colab.research.google.com/github/akashkumar181/Numpy/blob/main/Numpy.ipynb\" target=\"_parent\"><img src=\"https://colab.research.google.com/assets/colab-badge.svg\" alt=\"Open In Colab\"/></a>"
      ]
    },
    {
      "cell_type": "code",
      "execution_count": 2,
      "metadata": {
        "id": "nDAGDAppvUzj"
      },
      "outputs": [],
      "source": [
        "import numpy as np"
      ]
    },
    {
      "cell_type": "markdown",
      "source": [
        "#Array\n"
      ],
      "metadata": {
        "id": "jBd7pl0qoaEX"
      }
    },
    {
      "cell_type": "code",
      "source": [
        "x=[1,2,3,4]#this is list\n",
        "y=np.array(x)#this is array and converting x to array\n",
        "y=np.array([1,2,3,4])#we can do like this also for converting list to array\n",
        "print(y)\n",
        "print(type(y))\n",
        "print(y.ndim) #ndim tells which type of array like 1d,2d"
      ],
      "metadata": {
        "colab": {
          "base_uri": "https://localhost:8080/"
        },
        "id": "9UeW9dZpoRIY",
        "outputId": "ca2829cf-db40-4926-dc3b-522fe1689436"
      },
      "execution_count": null,
      "outputs": [
        {
          "output_type": "stream",
          "name": "stdout",
          "text": [
            "[1 2 3 4]\n",
            "<class 'numpy.ndarray'>\n",
            "1\n"
          ]
        }
      ]
    },
    {
      "cell_type": "code",
      "source": [
        "l=[]#empty list\n",
        "for i in range(1,5): #we are taking input from 1 to 5\n",
        "   value=int(input(\"Enter the value: \"))\n",
        "   l.append(value)\n",
        "print(np.array(l))"
      ],
      "metadata": {
        "colab": {
          "base_uri": "https://localhost:8080/"
        },
        "id": "QVl8TJvPpL5v",
        "outputId": "d207e0b2-1b3b-425d-95ac-1eaeed45d372"
      },
      "execution_count": null,
      "outputs": [
        {
          "output_type": "stream",
          "name": "stdout",
          "text": [
            "Enter the value: 12\n",
            "Enter the value: 2\n",
            "Enter the value: 6\n",
            "Enter the value: 8\n",
            "['12' '2' '6' '8']\n"
          ]
        }
      ]
    },
    {
      "cell_type": "markdown",
      "source": [
        "1D Array [1,2,3,4]\n",
        "2d array [[1,2,3,5]]\n",
        "3d array [[[4,5,6,8]]]"
      ],
      "metadata": {
        "id": "6Fj_7BYUqOQ8"
      }
    },
    {
      "cell_type": "code",
      "source": [
        "arr2=np.array([[1,2,3],[333,78,99]])\n",
        "print(arr2)\n",
        "print(arr2.ndim)"
      ],
      "metadata": {
        "colab": {
          "base_uri": "https://localhost:8080/"
        },
        "id": "W9QNTfl7qM1M",
        "outputId": "cfe63726-fbe7-4959-8a29-cc6e77056be8"
      },
      "execution_count": null,
      "outputs": [
        {
          "output_type": "stream",
          "name": "stdout",
          "text": [
            "[[  1   2   3]\n",
            " [333  78  99]]\n",
            "2\n"
          ]
        }
      ]
    },
    {
      "cell_type": "code",
      "source": [
        "arr3=np.array([[[1,2,34,4],[3,4,5,6]]])\n",
        "print(arr3)\n",
        "print(arr3.ndim)"
      ],
      "metadata": {
        "colab": {
          "base_uri": "https://localhost:8080/"
        },
        "id": "t4vRmVZnrb5H",
        "outputId": "5ea4f811-a406-42e9-87d6-b431fab3dcfd"
      },
      "execution_count": null,
      "outputs": [
        {
          "output_type": "stream",
          "name": "stdout",
          "text": [
            "[[[ 1  2 34  4]\n",
            "  [ 3  4  5  6]]]\n",
            "3\n"
          ]
        }
      ]
    },
    {
      "cell_type": "code",
      "source": [
        "arn=np.array([1,2,3,4],ndmin=8)#it is creating 8d array\n",
        "print(arn)\n",
        "print(arn.ndim)"
      ],
      "metadata": {
        "colab": {
          "base_uri": "https://localhost:8080/"
        },
        "id": "wPHXUAh6r6Nt",
        "outputId": "e079eeaa-670c-43c8-f508-8fb98816ee08"
      },
      "execution_count": null,
      "outputs": [
        {
          "output_type": "stream",
          "name": "stdout",
          "text": [
            "[[[[[[[[1 2 3 4]]]]]]]]\n",
            "8\n"
          ]
        }
      ]
    },
    {
      "cell_type": "code",
      "source": [
        "l=[]\n",
        "for i in range(1,5):\n",
        "  value=int(input(\"Enter value: \"))\n",
        "  l.append(value)\n",
        "arrn=np.array(l,ndmin=9)\n",
        "print(arrn)\n",
        "print(arrn.ndim)"
      ],
      "metadata": {
        "colab": {
          "base_uri": "https://localhost:8080/"
        },
        "id": "5ZA46PxysshX",
        "outputId": "86fbf151-eee1-4990-9a2e-1c06b8aadab7"
      },
      "execution_count": null,
      "outputs": [
        {
          "output_type": "stream",
          "name": "stdout",
          "text": [
            "Enter value: 2\n",
            "Enter value: 5\n",
            "Enter value: 7\n",
            "Enter value: 9\n",
            "[[[[[[[[[2 5 7 9]]]]]]]]]\n",
            "9\n"
          ]
        }
      ]
    },
    {
      "cell_type": "markdown",
      "source": [
        "Array filled with 0's\n"
      ],
      "metadata": {
        "id": "LG0zv04Gtxrc"
      }
    },
    {
      "cell_type": "code",
      "source": [
        "x=int(input(\"Enter value: \"))\n",
        "arrr=np.zeros(x) #x denotes how much elements\n",
        "arr=np.array(arrr,ndmin=3)\n",
        "\n",
        "print(arr)\n",
        "print(arr.ndim)"
      ],
      "metadata": {
        "colab": {
          "base_uri": "https://localhost:8080/"
        },
        "id": "OIrZsTfatsB2",
        "outputId": "3a0b6db2-df4d-44fc-f6ec-fcbcd73afaf6"
      },
      "execution_count": null,
      "outputs": [
        {
          "output_type": "stream",
          "name": "stdout",
          "text": [
            "Enter value: 6\n",
            "[[[0. 0. 0. 0. 0. 0.]]]\n",
            "3\n"
          ]
        }
      ]
    },
    {
      "cell_type": "code",
      "source": [
        "arr=np.zeros((3,5))#it creates array of 3 by 5\n",
        "print(arr)"
      ],
      "metadata": {
        "colab": {
          "base_uri": "https://localhost:8080/"
        },
        "id": "oYs-jNlUu_KE",
        "outputId": "9234e6f3-3095-44b5-f46e-298922c81126"
      },
      "execution_count": null,
      "outputs": [
        {
          "output_type": "stream",
          "name": "stdout",
          "text": [
            "[[0. 0. 0. 0. 0.]\n",
            " [0. 0. 0. 0. 0.]\n",
            " [0. 0. 0. 0. 0.]]\n"
          ]
        }
      ]
    },
    {
      "cell_type": "code",
      "source": [
        "x=np.array([1,2,3,4])\n",
        "print(x)\n",
        "print(type(x))"
      ],
      "metadata": {
        "colab": {
          "base_uri": "https://localhost:8080/"
        },
        "id": "fnqQZ4Pc7qOK",
        "outputId": "f56dc563-6fff-4dd2-fd5d-b09832ee0fa4"
      },
      "execution_count": null,
      "outputs": [
        {
          "output_type": "stream",
          "name": "stdout",
          "text": [
            "[1 2 3 4]\n",
            "<class 'numpy.ndarray'>\n"
          ]
        }
      ]
    },
    {
      "cell_type": "markdown",
      "source": [
        "Array filled with 1"
      ],
      "metadata": {
        "id": "vA6quipKwwzj"
      }
    },
    {
      "cell_type": "code",
      "source": [
        "arr=np.ones(4)\n",
        "print(arr)\n"
      ],
      "metadata": {
        "colab": {
          "base_uri": "https://localhost:8080/"
        },
        "id": "5DsYTZk_r3rq",
        "outputId": "3e11fba4-9dd0-4f1b-8055-ab4f3d9da2bb"
      },
      "execution_count": null,
      "outputs": [
        {
          "output_type": "stream",
          "name": "stdout",
          "text": [
            "[1. 1. 1. 1.]\n"
          ]
        }
      ]
    },
    {
      "cell_type": "markdown",
      "source": [
        "Creating empty array"
      ],
      "metadata": {
        "id": "EiiTjFcCxK4b"
      }
    },
    {
      "cell_type": "code",
      "source": [
        "y=np.empty(5)\n",
        "print(y)"
      ],
      "metadata": {
        "colab": {
          "base_uri": "https://localhost:8080/"
        },
        "id": "-ELj44I6xOUd",
        "outputId": "64b8317c-182d-4935-a4e1-d8593ec4a102"
      },
      "execution_count": null,
      "outputs": [
        {
          "output_type": "stream",
          "name": "stdout",
          "text": [
            "[0.   0.25 0.5  0.75 1.  ]\n"
          ]
        }
      ]
    },
    {
      "cell_type": "markdown",
      "source": [
        "Range array\n"
      ],
      "metadata": {
        "id": "0maxCg6yx1A3"
      }
    },
    {
      "cell_type": "code",
      "source": [
        "x=np.arange(4)\n",
        "print(x)"
      ],
      "metadata": {
        "colab": {
          "base_uri": "https://localhost:8080/"
        },
        "id": "QaxyrCc7x5y8",
        "outputId": "391098d1-fb31-4135-e47c-d1c037e8f39c"
      },
      "execution_count": null,
      "outputs": [
        {
          "output_type": "stream",
          "name": "stdout",
          "text": [
            "[0 1 2 3]\n"
          ]
        }
      ]
    },
    {
      "cell_type": "markdown",
      "source": [
        "Diagonal element become 1"
      ],
      "metadata": {
        "id": "XEsmbgLPyPMs"
      }
    },
    {
      "cell_type": "code",
      "source": [
        "arr=np.eye(3,6)\n",
        "print(arr)"
      ],
      "metadata": {
        "colab": {
          "base_uri": "https://localhost:8080/"
        },
        "id": "6pSqZffYyEO0",
        "outputId": "79664a49-fd06-470d-8e03-2cf8273cb363"
      },
      "execution_count": null,
      "outputs": [
        {
          "output_type": "stream",
          "name": "stdout",
          "text": [
            "[[1. 0. 0.]\n",
            " [0. 1. 0.]\n",
            " [0. 0. 1.]]\n"
          ]
        }
      ]
    },
    {
      "cell_type": "markdown",
      "source": [
        "%timeit work on one line of code but %%timeit work on whole program\n"
      ],
      "metadata": {
        "id": "qmwDvfcLm0bn"
      }
    },
    {
      "cell_type": "markdown",
      "source": [
        "Creating a specail array"
      ],
      "metadata": {
        "id": "S44sBCs0yqQe"
      }
    },
    {
      "cell_type": "code",
      "source": [
        "arr=np.linspace(0,80,num=8) #it takes value from 0 to 10 that is 8 elements\n",
        "print(arr)"
      ],
      "metadata": {
        "colab": {
          "base_uri": "https://localhost:8080/"
        },
        "id": "va-tczmCywVj",
        "outputId": "5015a984-2eaa-4acf-db37-efbed8fc8444"
      },
      "execution_count": null,
      "outputs": [
        {
          "output_type": "stream",
          "name": "stdout",
          "text": [
            "[ 0.         11.42857143 22.85714286 34.28571429 45.71428571 57.14285714\n",
            " 68.57142857 80.        ]\n"
          ]
        }
      ]
    },
    {
      "cell_type": "markdown",
      "source": [
        "rand():it gives random number between 0 to 1\n"
      ],
      "metadata": {
        "id": "jp3X6rdizkgq"
      }
    },
    {
      "cell_type": "code",
      "source": [
        "a=np.random.rand(5)\n",
        "#a1=np.random.rand(5,8)\n",
        "print(a)\n",
        "#print(a1)"
      ],
      "metadata": {
        "colab": {
          "base_uri": "https://localhost:8080/"
        },
        "id": "vnuYwOMWzPyV",
        "outputId": "e90a6b9a-fe14-42a7-878e-86823aa990d8"
      },
      "execution_count": null,
      "outputs": [
        {
          "output_type": "stream",
          "name": "stdout",
          "text": [
            "[0.78586703 0.4340272  0.79665876 0.05456417 0.2706178 ]\n",
            "[[0.97099433 0.18528276 0.09681695 0.0061855  0.58816438 0.32379298\n",
            "  0.87165925 0.83939321]\n",
            " [0.88327203 0.27653669 0.08988137 0.06172418 0.37639162 0.21668716\n",
            "  0.29197902 0.85213643]\n",
            " [0.38838473 0.06104336 0.95583138 0.56668997 0.08431072 0.6423204\n",
            "  0.8561709  0.44346476]\n",
            " [0.83321687 0.12832452 0.04931532 0.77780726 0.66338749 0.82067725\n",
            "  0.10847526 0.47725053]\n",
            " [0.08235945 0.63868665 0.16646799 0.5887409  0.96483016 0.944586\n",
            "  0.01436303 0.34083547]]\n"
          ]
        }
      ]
    },
    {
      "cell_type": "markdown",
      "source": [
        "randn()=it creates random number that is close to 0 that is negative or positive"
      ],
      "metadata": {
        "id": "1iGeLfnM0Vaq"
      }
    },
    {
      "cell_type": "code",
      "source": [
        "x=np.random.randn(5)\n",
        "print(x)"
      ],
      "metadata": {
        "colab": {
          "base_uri": "https://localhost:8080/"
        },
        "id": "4dZHU7EK01ue",
        "outputId": "e13cf466-5ceb-4408-c89c-466a3ac9853b"
      },
      "execution_count": null,
      "outputs": [
        {
          "output_type": "stream",
          "name": "stdout",
          "text": [
            "[-0.19167543 -2.01691791 -0.29941501  1.35989415  0.94154763]\n"
          ]
        }
      ]
    },
    {
      "cell_type": "markdown",
      "source": [
        "ranf():it creates random number that is from[0.0,1.0) in which 1 is no included mtlb 0 to 1 jisme 1 nhi hoga"
      ],
      "metadata": {
        "id": "0duarWmd098k"
      }
    },
    {
      "cell_type": "code",
      "source": [
        "x=np.random.ranf(6)\n",
        "print(x)"
      ],
      "metadata": {
        "colab": {
          "base_uri": "https://localhost:8080/"
        },
        "id": "tjamaG-A1afy",
        "outputId": "0dc2da26-28ee-4fb4-9daa-d2903bf2f7e1"
      },
      "execution_count": null,
      "outputs": [
        {
          "output_type": "stream",
          "name": "stdout",
          "text": [
            "[0.65882284 0.31593815 0.42872646 0.0706566  0.85965178 0.23285823]\n"
          ]
        }
      ]
    },
    {
      "cell_type": "markdown",
      "source": [
        "randint():it creates any number between two range like 1 to 8 it gives number between 1 to 8"
      ],
      "metadata": {
        "id": "dfAn9d9r1we2"
      }
    },
    {
      "cell_type": "code",
      "source": [
        "v=np.random.randint(3,10,5)#3 is lower range and 10 is higher range 5 is how much number want\n",
        "v1=np.random.randint(2,10,(6,7))\n",
        "print(v)\n",
        "print(v1)"
      ],
      "metadata": {
        "colab": {
          "base_uri": "https://localhost:8080/"
        },
        "id": "OaS1VACb2Ak9",
        "outputId": "c707d61e-63e4-4ab5-9481-4c85b31a9e68"
      },
      "execution_count": null,
      "outputs": [
        {
          "output_type": "stream",
          "name": "stdout",
          "text": [
            "[[4 9 8 4 3 8 2]\n",
            " [4 9 5 8 8 7 9]\n",
            " [2 6 9 4 6 4 3]\n",
            " [7 7 6 2 3 3 5]\n",
            " [9 8 2 2 7 9 6]\n",
            " [5 6 9 6 5 3 7]]\n"
          ]
        }
      ]
    },
    {
      "cell_type": "code",
      "source": [
        "x=int(input(\"Enter lower range: \"))\n",
        "y=int(input(\"Enter upper range: \"))\n",
        "no=int(input(\"Enter how much number want: \"))\n",
        "arr=np.random.randint(x,y,no)\n",
        "print(arr)"
      ],
      "metadata": {
        "colab": {
          "base_uri": "https://localhost:8080/"
        },
        "id": "KjtrmZF02yT5",
        "outputId": "83f4b45b-170c-44a7-8f31-c4b9e8d74c36"
      },
      "execution_count": null,
      "outputs": [
        {
          "output_type": "stream",
          "name": "stdout",
          "text": [
            "Enter lower range: 0\n",
            "Enter upper range: 1000\n",
            "Enter how much number want: 79\n",
            "[806 796 566 213 461 750  26 301 645 161 183 399 323 478 103 824 480 809\n",
            " 480 785 771 153 646 519 533 324 656 140 277 182  10 848 390 664 146 147\n",
            " 263 876 140 410 725 965  12 980 503 161 275 783 789 477 399 508 295 226\n",
            " 327 901 868 161 662 708 945 826 844 843 199 590 222 998 582 373 856 768\n",
            " 225 310  24 159 817 340  79]\n"
          ]
        }
      ]
    },
    {
      "cell_type": "markdown",
      "source": [
        "#Shape"
      ],
      "metadata": {
        "id": "IOjWQ3r43feQ"
      }
    },
    {
      "cell_type": "code",
      "source": [
        "var=np.array([[3,5,9],[6,9,9]])\n",
        "print(var)\n",
        "print(var.ndim)\n",
        "print(var.shape) #it provide m=row*n=col type like 2*3"
      ],
      "metadata": {
        "colab": {
          "base_uri": "https://localhost:8080/"
        },
        "id": "KQB7V57o4s1c",
        "outputId": "8cdbd3d4-8f1e-469b-e672-6a3da6594cb3"
      },
      "execution_count": null,
      "outputs": [
        {
          "output_type": "stream",
          "name": "stdout",
          "text": [
            "[[3 5 9]\n",
            " [6 9 9]]\n",
            "2\n",
            "(2, 3)\n"
          ]
        }
      ]
    },
    {
      "cell_type": "markdown",
      "source": [
        "#Reshape"
      ],
      "metadata": {
        "id": "Bll2FzWEyeTi"
      }
    },
    {
      "cell_type": "code",
      "source": [
        "var2=np.array([1,2,3,4,5,6,7,8,9,10,11,12])\n",
        "# x=var2.reshape(8,1)\n",
        "# print(x)\n",
        "x1=var2.reshape(2,3,2)\n",
        "print(x1)\n",
        "print(x1.ndim)\n"
      ],
      "metadata": {
        "colab": {
          "base_uri": "https://localhost:8080/"
        },
        "id": "3w-6hhk2w4qj",
        "outputId": "aec2ef8d-4ef8-49ba-b88b-093ca1d76270"
      },
      "execution_count": null,
      "outputs": [
        {
          "output_type": "stream",
          "name": "stdout",
          "text": [
            "[[[ 1  2]\n",
            "  [ 3  4]\n",
            "  [ 5  6]]\n",
            "\n",
            " [[ 7  8]\n",
            "  [ 9 10]\n",
            "  [11 12]]]\n",
            "3\n"
          ]
        }
      ]
    },
    {
      "cell_type": "code",
      "source": [
        "var2=np.array([1,2,3,4,5,6,7,8,9,10,11,12])\n",
        "# x=var2.reshape(8,1)\n",
        "# print(x)\n",
        "x1=var2.reshape(2,3,2)\n",
        "print(x1)\n",
        "print(x1.ndim)\n",
        "\n",
        "one=x1.reshape(-1)#one d array\n",
        "print(one)"
      ],
      "metadata": {
        "colab": {
          "base_uri": "https://localhost:8080/"
        },
        "id": "L9TLxV1tz3W0",
        "outputId": "e1d7e25a-9721-4d75-b6d8-9da2e0dd65bc"
      },
      "execution_count": null,
      "outputs": [
        {
          "output_type": "stream",
          "name": "stdout",
          "text": [
            "[[[ 1  2]\n",
            "  [ 3  4]\n",
            "  [ 5  6]]\n",
            "\n",
            " [[ 7  8]\n",
            "  [ 9 10]\n",
            "  [11 12]]]\n",
            "3\n",
            "[ 1  2  3  4  5  6  7  8  9 10 11 12]\n"
          ]
        }
      ]
    },
    {
      "cell_type": "markdown",
      "source": [
        "#Airthmatic operation"
      ],
      "metadata": {
        "id": "8RQE8Nvu2CRQ"
      }
    },
    {
      "cell_type": "markdown",
      "source": [
        "Addition"
      ],
      "metadata": {
        "id": "P2pXE5mR2Zau"
      }
    },
    {
      "cell_type": "code",
      "source": [
        "var=np.array([1,2,3,4])\n",
        "varadd=var+3\n",
        "print(varadd)"
      ],
      "metadata": {
        "colab": {
          "base_uri": "https://localhost:8080/"
        },
        "id": "E-Qo5CPi1_io",
        "outputId": "f714874e-3bf9-4b64-e4eb-7aa3136f37bb"
      },
      "execution_count": null,
      "outputs": [
        {
          "output_type": "stream",
          "name": "stdout",
          "text": [
            "[4 5 6 7]\n"
          ]
        }
      ]
    },
    {
      "cell_type": "code",
      "source": [
        "var1=np.array([1,2,3,4])\n",
        "var2=np.array([1,2,3,4])\n",
        "varadd=var1+var2\n",
        "varadd1=np.add(var1,var2)#function to add\n",
        "varadd2=np.add(var1,3)#function to add\n",
        "print(varadd)\n",
        "print(varadd1)\n",
        "print(varadd2)"
      ],
      "metadata": {
        "colab": {
          "base_uri": "https://localhost:8080/"
        },
        "id": "NE5IELRM2ubw",
        "outputId": "5df04218-1a2b-4712-d1c0-f527906ae982"
      },
      "execution_count": null,
      "outputs": [
        {
          "output_type": "stream",
          "name": "stdout",
          "text": [
            "[2 4 6 8]\n",
            "[2 4 6 8]\n",
            "[4 5 6 7]\n"
          ]
        }
      ]
    },
    {
      "cell_type": "markdown",
      "source": [
        "Subtraction"
      ],
      "metadata": {
        "id": "FSPcBBJe3WNY"
      }
    },
    {
      "cell_type": "code",
      "source": [
        "var=np.array([1,2,3,4])\n",
        "varadd=var-3\n",
        "print(varadd)"
      ],
      "metadata": {
        "colab": {
          "base_uri": "https://localhost:8080/"
        },
        "id": "eX3B3-OL3OFR",
        "outputId": "d9ec2081-8b4e-473a-f155-6993253b0813"
      },
      "execution_count": null,
      "outputs": [
        {
          "output_type": "stream",
          "name": "stdout",
          "text": [
            "[-2 -1  0  1]\n"
          ]
        }
      ]
    },
    {
      "cell_type": "code",
      "source": [
        "var1=np.array([1,2,3,4])\n",
        "var2=np.array([1,2,3,4])\n",
        "varadd=var1-var2\n",
        "print(varadd)"
      ],
      "metadata": {
        "colab": {
          "base_uri": "https://localhost:8080/"
        },
        "id": "g_dzqNOb3nle",
        "outputId": "29514a1c-239d-4e3a-c416-beff70d72fa4"
      },
      "execution_count": null,
      "outputs": [
        {
          "output_type": "stream",
          "name": "stdout",
          "text": [
            "[0 0 0 0]\n"
          ]
        }
      ]
    },
    {
      "cell_type": "code",
      "source": [
        "var1=np.array([1,2,3,4])\n",
        "var2=np.array([1,2,3,4])\n",
        "varadd=var1*var2\n",
        "print(varadd)"
      ],
      "metadata": {
        "colab": {
          "base_uri": "https://localhost:8080/"
        },
        "id": "LwWf4kzS3q1r",
        "outputId": "b5d82f7f-0b69-4fa5-ec41-7082157dac32"
      },
      "execution_count": null,
      "outputs": [
        {
          "output_type": "stream",
          "name": "stdout",
          "text": [
            "[ 1  4  9 16]\n"
          ]
        }
      ]
    },
    {
      "cell_type": "code",
      "source": [
        "var=np.array([1,2,3,4])\n",
        "varadd=var*3\n",
        "print(varadd)"
      ],
      "metadata": {
        "colab": {
          "base_uri": "https://localhost:8080/"
        },
        "id": "Ck2NhS-Z3veq",
        "outputId": "02c13030-6768-4852-d4f7-5758a1094bef"
      },
      "execution_count": null,
      "outputs": [
        {
          "output_type": "stream",
          "name": "stdout",
          "text": [
            "[ 3  6  9 12]\n"
          ]
        }
      ]
    },
    {
      "cell_type": "code",
      "source": [
        "var=np.array([1,2,3,4])\n",
        "varadd=var/3\n",
        "print(varadd)"
      ],
      "metadata": {
        "colab": {
          "base_uri": "https://localhost:8080/"
        },
        "id": "kA7zSz3R35hq",
        "outputId": "51b38a4e-c087-43f7-e1ad-2ba45c0d0a4c"
      },
      "execution_count": null,
      "outputs": [
        {
          "output_type": "stream",
          "name": "stdout",
          "text": [
            "[0.33333333 0.66666667 1.         1.33333333]\n"
          ]
        }
      ]
    },
    {
      "cell_type": "code",
      "source": [
        "var=np.array([1,2,3,4])\n",
        "varadd=var%3\n",
        "print(varadd)"
      ],
      "metadata": {
        "colab": {
          "base_uri": "https://localhost:8080/"
        },
        "id": "4_q90z3a4B7c",
        "outputId": "243b5251-1764-4264-88d2-1a8d80a4af43"
      },
      "execution_count": null,
      "outputs": [
        {
          "output_type": "stream",
          "name": "stdout",
          "text": [
            "[1 2 0 1]\n"
          ]
        }
      ]
    },
    {
      "cell_type": "markdown",
      "source": [
        "#2D Array"
      ],
      "metadata": {
        "id": "AniSJ-Lg6At0"
      }
    },
    {
      "cell_type": "code",
      "source": [
        "var1=np.array([[1,2,3,4]])\n",
        "var2=np.array([[1,2,3,4]])\n",
        "varadd=var1+var2\n",
        "print(varadd)"
      ],
      "metadata": {
        "colab": {
          "base_uri": "https://localhost:8080/"
        },
        "id": "inhZp1nH6Ipu",
        "outputId": "df69f6f1-6f2c-432c-dfc3-e5098f6ad276"
      },
      "execution_count": null,
      "outputs": [
        {
          "output_type": "stream",
          "name": "stdout",
          "text": [
            "[[2 4 6 8]]\n"
          ]
        }
      ]
    },
    {
      "cell_type": "code",
      "source": [
        "var1=np.array([[1,2,3,4],[1,2,3,4]])\n",
        "var2=np.array([[1,2,3,4],[5,6,7,8]])\n",
        "varadd=var1-var2\n",
        "\n",
        "print(varadd)"
      ],
      "metadata": {
        "colab": {
          "base_uri": "https://localhost:8080/"
        },
        "id": "2dBfnmv56ljF",
        "outputId": "ae0d2b34-fbe6-4090-bccb-ddf6b8be0eda"
      },
      "execution_count": null,
      "outputs": [
        {
          "output_type": "stream",
          "name": "stdout",
          "text": [
            "[[ 0  0  0  0]\n",
            " [-4 -4 -4 -4]]\n"
          ]
        }
      ]
    },
    {
      "cell_type": "code",
      "source": [
        "var1=np.array([[1,2,3,4],[1,2,3,4]])\n",
        "var2=np.array([[1,2,3,4],[5,6,7,8]])\n",
        "varadd=var1/var2\n",
        "\n",
        "print(varadd)"
      ],
      "metadata": {
        "colab": {
          "base_uri": "https://localhost:8080/"
        },
        "id": "dSjfvrvM6v_r",
        "outputId": "4ca5da5f-609d-40bb-f262-ab76cdf903aa"
      },
      "execution_count": null,
      "outputs": [
        {
          "output_type": "stream",
          "name": "stdout",
          "text": [
            "[[1.         1.         1.         1.        ]\n",
            " [0.2        0.33333333 0.42857143 0.5       ]]\n"
          ]
        }
      ]
    },
    {
      "cell_type": "code",
      "source": [
        "var1=np.array([[1,2,3,4],[1,2,3,4]])\n",
        "var2=np.array([[1,2,3,4],[5,6,7,8]])\n",
        "varadd=var1%var2\n",
        "\n",
        "print(varadd)"
      ],
      "metadata": {
        "colab": {
          "base_uri": "https://localhost:8080/"
        },
        "id": "qV2wcTXc6ysC",
        "outputId": "74f48bc0-0e24-4620-c599-bb6ec7d24d79"
      },
      "execution_count": null,
      "outputs": [
        {
          "output_type": "stream",
          "name": "stdout",
          "text": [
            "[[0 0 0 0]\n",
            " [1 2 3 4]]\n"
          ]
        }
      ]
    },
    {
      "cell_type": "code",
      "source": [
        "var1=np.array([[1,2,3,4],[1,2,3,4]])\n",
        "var2=np.array([[1,2,3,4],[5,6,7,8]])\n",
        "varadd=var1/3\n",
        "\n",
        "print(varadd)"
      ],
      "metadata": {
        "colab": {
          "base_uri": "https://localhost:8080/"
        },
        "id": "ElWE3ntA631-",
        "outputId": "da3f18d1-a579-4bf4-d359-c41ec2729c80"
      },
      "execution_count": null,
      "outputs": [
        {
          "output_type": "stream",
          "name": "stdout",
          "text": [
            "[[0.33333333 0.66666667 1.         1.33333333]\n",
            " [0.33333333 0.66666667 1.         1.33333333]]\n"
          ]
        }
      ]
    },
    {
      "cell_type": "code",
      "source": [
        "%timeit [j**4 for j in range(1,9)]"
      ],
      "metadata": {
        "colab": {
          "base_uri": "https://localhost:8080/"
        },
        "id": "0aaqi7eIm-ZS",
        "outputId": "a8c838fd-5216-4390-d975-3e8bb365174d"
      },
      "execution_count": null,
      "outputs": [
        {
          "output_type": "stream",
          "name": "stdout",
          "text": [
            "829 ns ± 191 ns per loop (mean ± std. dev. of 7 runs, 1000000 loops each)\n"
          ]
        }
      ]
    },
    {
      "cell_type": "markdown",
      "source": [
        "np.arange to create a array with power 4\n",
        "with specific range\n"
      ],
      "metadata": {
        "id": "Wc1FwN5Jnnkx"
      }
    },
    {
      "cell_type": "code",
      "source": [
        "var1=np.array([[1,2,3,4],[1,2,3,4]])\n",
        "var2=np.array([[1,2,3,4],[5,6,7,8]])\n",
        "varadd=np.reciprocal(var1) #ulta kar deta h\n",
        "\n",
        "print(varadd)"
      ],
      "metadata": {
        "colab": {
          "base_uri": "https://localhost:8080/"
        },
        "id": "qUkZdFvZ7XOU",
        "outputId": "47a80780-e8ba-4705-a5e8-f1fe57011d22"
      },
      "execution_count": null,
      "outputs": [
        {
          "output_type": "stream",
          "name": "stdout",
          "text": [
            "[[1 0 0 0]\n",
            " [1 0 0 0]]\n"
          ]
        }
      ]
    },
    {
      "cell_type": "markdown",
      "source": [
        "#Airthmatic Function"
      ],
      "metadata": {
        "id": "o1Rk3xRZ7oGO"
      }
    },
    {
      "cell_type": "code",
      "source": [
        "var=np.array([9,2,3,4])\n",
        "print(\"min: \",np.min(var),\"Position: \",np.argmin(var));\n",
        "print(\"max: \",np.max(var),\"Position: \",np.argmax(var));\n"
      ],
      "metadata": {
        "colab": {
          "base_uri": "https://localhost:8080/"
        },
        "id": "bmS0iNAK7h0E",
        "outputId": "06a143ec-2558-4a75-b405-4903a20c8334"
      },
      "execution_count": null,
      "outputs": [
        {
          "output_type": "stream",
          "name": "stdout",
          "text": [
            "min:  2 Position:  1\n",
            "max:  9 Position:  0\n"
          ]
        }
      ]
    },
    {
      "cell_type": "markdown",
      "source": [
        "There are two types of axis =0,axis=1 and axis 0 work along column and axis=1 work along row"
      ],
      "metadata": {
        "id": "rH2BAp9B5-at"
      }
    },
    {
      "cell_type": "code",
      "source": [
        "var1=np.array([[2,1,3],[9,5,6]])\n",
        "print(np.min(var1,axis=0))"
      ],
      "metadata": {
        "colab": {
          "base_uri": "https://localhost:8080/"
        },
        "id": "cJdHx7Zt6cjY",
        "outputId": "cf2c3a85-8528-405e-8f8a-a92ae020b35c"
      },
      "execution_count": 3,
      "outputs": [
        {
          "output_type": "stream",
          "name": "stdout",
          "text": [
            "[2 1 3]\n"
          ]
        }
      ]
    },
    {
      "cell_type": "code",
      "source": [
        "var1=np.array([[2,5,9],[7,8,9],[1,4,0]])\n",
        "print(np.min(var1,axis=1))"
      ],
      "metadata": {
        "colab": {
          "base_uri": "https://localhost:8080/"
        },
        "id": "ABb9yetn7jH-",
        "outputId": "82c6fa0d-e968-438d-926e-751ab7368138"
      },
      "execution_count": 5,
      "outputs": [
        {
          "output_type": "stream",
          "name": "stdout",
          "text": [
            "[2 7 0]\n"
          ]
        }
      ]
    },
    {
      "cell_type": "code",
      "source": [
        "var1=np.array([[2,5,9],[7,8,9],[1,4,0]])\n",
        "print(np.min(var1,axis=1))\n",
        "print(\"sqrt: \",np.sqrt(var1))"
      ],
      "metadata": {
        "colab": {
          "base_uri": "https://localhost:8080/"
        },
        "id": "cCnE6cdu71YX",
        "outputId": "c237a068-f7f7-45d4-b752-a6311f6db10d"
      },
      "execution_count": 6,
      "outputs": [
        {
          "output_type": "stream",
          "name": "stdout",
          "text": [
            "[2 7 0]\n",
            "sqrt:  [[1.41421356 2.23606798 3.        ]\n",
            " [2.64575131 2.82842712 3.        ]\n",
            " [1.         2.         0.        ]]\n"
          ]
        }
      ]
    },
    {
      "cell_type": "code",
      "source": [
        "var1=np.array([[2,1,9],[7,8,9],[1,4,0]])\n",
        "#print(np.min(var1,axis=1))\n",
        "print(\"sort: \",np.sort(var1))"
      ],
      "metadata": {
        "colab": {
          "base_uri": "https://localhost:8080/"
        },
        "id": "ulv4sKZY8N0g",
        "outputId": "1223eeb2-ce21-4f83-e979-29b954211ab9"
      },
      "execution_count": 8,
      "outputs": [
        {
          "output_type": "stream",
          "name": "stdout",
          "text": [
            "sort:  [[1 2 9]\n",
            " [7 8 9]\n",
            " [0 1 4]]\n"
          ]
        }
      ]
    },
    {
      "cell_type": "code",
      "source": [
        "var2=np.array([1,2,3,4])\n",
        "print(np.sin(var2))\n",
        "print(np.cos(var2))\n",
        "print(np.cumsum(var2))#in cumsum first digit as it after that it 1+2Nd digit previousresult+next no like this\n"
      ],
      "metadata": {
        "colab": {
          "base_uri": "https://localhost:8080/"
        },
        "id": "Zu9-OHwJ8hV8",
        "outputId": "539cddb3-3d33-4a17-fbf2-95fe81b21c5f"
      },
      "execution_count": 12,
      "outputs": [
        {
          "output_type": "stream",
          "name": "stdout",
          "text": [
            "[ 0.84147098  0.90929743  0.14112001 -0.7568025 ]\n",
            "[ 0.54030231 -0.41614684 -0.9899925  -0.65364362]\n",
            "[ 1  3  6 10]\n"
          ]
        }
      ]
    },
    {
      "cell_type": "markdown",
      "source": [
        "#Broadcasting\n",
        "1.Same Dimension of all array like ar1=m*n then another array also hv m*n\n",
        "2.(3*1) (3*1) on comparing from right hand side at least 1 contains any of them"
      ],
      "metadata": {
        "id": "bMe18niN91z4"
      }
    },
    {
      "cell_type": "code",
      "source": [
        "var1=np.array([1,2,34,6])\n",
        "print(var1)\n",
        "print(var1.shape)\n",
        "var2=np.array([[1],[4],[5]])\n",
        "print(var2.shape)\n",
        "print(var1+var2)"
      ],
      "metadata": {
        "colab": {
          "base_uri": "https://localhost:8080/"
        },
        "id": "U1xjK81j9oq_",
        "outputId": "3192b826-fda5-4075-bf6b-9b96c93fff78"
      },
      "execution_count": 17,
      "outputs": [
        {
          "output_type": "stream",
          "name": "stdout",
          "text": [
            "(4,)\n",
            "(3, 1)\n",
            "[[ 2  3 35  7]\n",
            " [ 5  6 38 10]\n",
            " [ 6  7 39 11]]\n"
          ]
        }
      ]
    },
    {
      "cell_type": "markdown",
      "source": [
        "#Indexing and Slicing"
      ],
      "metadata": {
        "id": "D0NXs4cFCr-a"
      }
    },
    {
      "cell_type": "markdown",
      "source": [
        "[[1,2],[1,2]]=0 for [1,2] and 1 for [1,2] for 2d\n"
      ],
      "metadata": {
        "id": "fmauQkF8DE6j"
      }
    },
    {
      "cell_type": "code",
      "source": [
        "var1=np.array([1,2,3,4])\n",
        "print(var1[2])\n",
        "print(var1[-1])"
      ],
      "metadata": {
        "colab": {
          "base_uri": "https://localhost:8080/"
        },
        "id": "ZWj2gSuECxkk",
        "outputId": "eb10b932-45b8-4c5f-ce54-9ca6dd796a08"
      },
      "execution_count": 20,
      "outputs": [
        {
          "output_type": "stream",
          "name": "stdout",
          "text": [
            "3\n",
            "4\n"
          ]
        }
      ]
    },
    {
      "cell_type": "code",
      "source": [
        "var1=np.array([[1,2,3,4],[90,8,0,1]])\n",
        "print(var1[0,1])# 0=first block and 1 is indexing of first block\n",
        "print(var1[1,1])# 1=second block and 1 is indexing of second block"
      ],
      "metadata": {
        "colab": {
          "base_uri": "https://localhost:8080/"
        },
        "id": "YqKrsuNSFLWE",
        "outputId": "af22100e-9235-4f51-d073-5c2f9b5b43e6"
      },
      "execution_count": 22,
      "outputs": [
        {
          "output_type": "stream",
          "name": "stdout",
          "text": [
            "2\n",
            "8\n"
          ]
        }
      ]
    },
    {
      "cell_type": "code",
      "source": [
        "var2=np.array([[[1,2,3],[4,6,8],[9,0,1]]])\n"
      ],
      "metadata": {
        "id": "CAVz71JaF_GN"
      },
      "execution_count": null,
      "outputs": []
    },
    {
      "cell_type": "code",
      "source": [
        "%timeit np.arange(1,9)**4"
      ],
      "metadata": {
        "colab": {
          "base_uri": "https://localhost:8080/"
        },
        "id": "UPf5bC6bnMrU",
        "outputId": "5579016d-d351-477b-a0de-6873c04c35f7"
      },
      "execution_count": null,
      "outputs": [
        {
          "output_type": "stream",
          "name": "stdout",
          "text": [
            "2.27 µs ± 79 ns per loop (mean ± std. dev. of 7 runs, 100000 loops each)\n"
          ]
        }
      ]
    },
    {
      "cell_type": "code",
      "source": [
        "y=[1,2,3,4]\n",
        "print(y)\n",
        "print(type(y))"
      ],
      "metadata": {
        "colab": {
          "base_uri": "https://localhost:8080/"
        },
        "id": "yAhQSGvu71-R",
        "outputId": "ecebb3dd-3f0f-4b76-a667-74281e6b754a"
      },
      "execution_count": null,
      "outputs": [
        {
          "output_type": "stream",
          "name": "stdout",
          "text": [
            "[1, 2, 3, 4]\n",
            "<class 'list'>\n"
          ]
        }
      ]
    },
    {
      "cell_type": "code",
      "source": [],
      "metadata": {
        "id": "Qn0mDgrw7-Qp"
      },
      "execution_count": null,
      "outputs": []
    },
    {
      "cell_type": "markdown",
      "source": [
        "1.Numpy is the fundamental package for scientific computing in python.\n",
        "2.It is a python library that provides multidimensional array object,various derived objects.\n",
        "#Advantage of using Numpy Arrays Over Phton list\n",
        "1.consumes less memory\n",
        "2.fast as compared to python list\n",
        "3.convenient to use\n",
        "\n",
        "\n"
      ],
      "metadata": {
        "id": "Qe9cMoY-vmFV"
      }
    }
  ]
}