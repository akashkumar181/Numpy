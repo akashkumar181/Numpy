{
  "nbformat": 4,
  "nbformat_minor": 0,
  "metadata": {
    "colab": {
      "provenance": [],
      "authorship_tag": "ABX9TyMSYaSZ/C66PN8cizAsrdg9",
      "include_colab_link": true
    },
    "kernelspec": {
      "name": "python3",
      "display_name": "Python 3"
    },
    "language_info": {
      "name": "python"
    }
  },
  "cells": [
    {
      "cell_type": "markdown",
      "metadata": {
        "id": "view-in-github",
        "colab_type": "text"
      },
      "source": [
        "<a href=\"https://colab.research.google.com/github/akashkumar181/Numpy/blob/main/NumpyPractice.ipynb\" target=\"_parent\"><img src=\"https://colab.research.google.com/assets/colab-badge.svg\" alt=\"Open In Colab\"/></a>"
      ]
    },
    {
      "cell_type": "markdown",
      "source": [
        "NumPy Combined Challenge\n",
        "You are given the task of analyzing a dataset using NumPy. Follow the steps below to complete the challenge:\n",
        "\n",
        "Create Data\n",
        "\n",
        "Generate a 6×6 matrix of random integers between 10 and 100.\n",
        "\n",
        "Extract the third row and store it in a separate variable.\n",
        "\n",
        "Data Manipulation\n",
        "\n",
        "Replace all even numbers in the matrix with -1.\n",
        "\n",
        "Reshape the matrix into a 3×12 array.\n",
        "\n",
        "Mathematical Operations\n",
        "\n",
        "Compute the mean, median, and standard deviation of the reshaped array.\n",
        "\n",
        "Normalize the matrix (scale values between 0 and 1).\n",
        "\n",
        "Linear Algebra Operations\n",
        "\n",
        "Extract the diagonal elements of the original 6×6 matrix.\n",
        "\n",
        "Compute the dot product of the diagonal elements with themselves.\n",
        "\n",
        "If the original matrix is invertible, find its inverse and determinant.\n",
        "\n",
        "Boolean Operations\n",
        "\n",
        "Create a mask that selects all values greater than the mean of the matrix.\n",
        "\n",
        "Count how many values are greater than the mean.\n",
        "\n",
        "Sorting & Unique Values\n",
        "\n",
        "Find and print all unique values in the matrix.\n",
        "\n",
        "Sort the matrix along each row in ascending order."
      ],
      "metadata": {
        "id": "LrULDNnTNZB7"
      }
    },
    {
      "cell_type": "code",
      "source": [
        "import numpy as pd"
      ],
      "metadata": {
        "id": "s7dPXSx7Nlz1"
      },
      "execution_count": 28,
      "outputs": []
    },
    {
      "cell_type": "code",
      "source": [
        "matrix=np.random.randint(10,100,(6,6))\n",
        "print(matrix)"
      ],
      "metadata": {
        "colab": {
          "base_uri": "https://localhost:8080/"
        },
        "id": "IIhor_HeN2CZ",
        "outputId": "fb5cef5f-cdcd-4590-88c9-81753ee79ae7"
      },
      "execution_count": 34,
      "outputs": [
        {
          "output_type": "stream",
          "name": "stdout",
          "text": [
            "[[72 82 15 23 83 27]\n",
            " [37 19 63 13 45 97]\n",
            " [30 48 77 59 68 53]\n",
            " [28 49 85 16 44 30]\n",
            " [54 44 13 19 44 34]\n",
            " [12 23 88 46 84 66]]\n"
          ]
        }
      ]
    },
    {
      "cell_type": "code",
      "source": [
        "thirdrow=matrix[3,:]\n",
        "print(thirdrow)"
      ],
      "metadata": {
        "colab": {
          "base_uri": "https://localhost:8080/"
        },
        "id": "WGBd1o8oQrh7",
        "outputId": "403e6fc9-7d98-445c-bc7f-04a494cdec94"
      },
      "execution_count": 39,
      "outputs": [
        {
          "output_type": "stream",
          "name": "stdout",
          "text": [
            "[28 49 85 16 44 30]\n"
          ]
        }
      ]
    },
    {
      "cell_type": "code",
      "source": [
        "matrix=np.where((matrix%2==0),-1,matrix)\n",
        "print(matrix)"
      ],
      "metadata": {
        "colab": {
          "base_uri": "https://localhost:8080/"
        },
        "id": "XnNF284OQ9oa",
        "outputId": "e105a8f9-e3cc-41a3-8572-2d8005b64142"
      },
      "execution_count": 47,
      "outputs": [
        {
          "output_type": "stream",
          "name": "stdout",
          "text": [
            "[[-1 -1 15 23 83 27]\n",
            " [37 19 63 13 45 97]\n",
            " [-1 -1 77 59 -1 53]\n",
            " [-1 49 85 -1 -1 -1]\n",
            " [-1 -1 13 19 -1 -1]\n",
            " [-1 23 -1 -1 -1 -1]]\n"
          ]
        }
      ]
    },
    {
      "cell_type": "code",
      "source": [
        "re=matrix.reshape(3,12)\n",
        "print(re)"
      ],
      "metadata": {
        "colab": {
          "base_uri": "https://localhost:8080/"
        },
        "id": "uyBQJoO1Rzqi",
        "outputId": "e763c068-b5ec-42a9-c585-67064240d28e"
      },
      "execution_count": 48,
      "outputs": [
        {
          "output_type": "stream",
          "name": "stdout",
          "text": [
            "[[-1 -1 15 23 83 27 37 19 63 13 45 97]\n",
            " [-1 -1 77 59 -1 53 -1 49 85 -1 -1 -1]\n",
            " [-1 -1 13 19 -1 -1 -1 23 -1 -1 -1 -1]]\n"
          ]
        }
      ]
    },
    {
      "cell_type": "code",
      "source": [
        "y=np.median(matrix)\n",
        "print(y)"
      ],
      "metadata": {
        "colab": {
          "base_uri": "https://localhost:8080/"
        },
        "id": "8L0aszHFSIcK",
        "outputId": "a5a2ccc2-dcf7-4737-99f7-088f71540b6a"
      },
      "execution_count": 51,
      "outputs": [
        {
          "output_type": "stream",
          "name": "stdout",
          "text": [
            "6.0\n"
          ]
        }
      ]
    },
    {
      "cell_type": "code",
      "source": [
        "y1=np.mean(matrix)\n",
        "print(y1)"
      ],
      "metadata": {
        "colab": {
          "base_uri": "https://localhost:8080/"
        },
        "id": "ru37dbTqSiUN",
        "outputId": "cd0ca5b5-ea30-44a4-bda3-65a24cfec6fc"
      },
      "execution_count": 53,
      "outputs": [
        {
          "output_type": "stream",
          "name": "stdout",
          "text": [
            "21.72222222222222\n"
          ]
        }
      ]
    },
    {
      "cell_type": "code",
      "source": [
        "y3=np.std(matrix)\n",
        "print(y3)"
      ],
      "metadata": {
        "colab": {
          "base_uri": "https://localhost:8080/"
        },
        "id": "2kCnZ0zhSqjv",
        "outputId": "c49e219d-3404-41cf-d4d8-2503a8c27ade"
      },
      "execution_count": 55,
      "outputs": [
        {
          "output_type": "stream",
          "name": "stdout",
          "text": [
            "29.63163766343811\n"
          ]
        }
      ]
    },
    {
      "cell_type": "code",
      "source": [
        "min=matrix.min()\n",
        "max=np.max(matrix)\n",
        "nor=(matrix-min)/(max-min)\n",
        "print(nor)"
      ],
      "metadata": {
        "colab": {
          "base_uri": "https://localhost:8080/"
        },
        "id": "oyG_gHc6TU0M",
        "outputId": "c6222034-7507-48c1-c688-9de3e8ed3b69"
      },
      "execution_count": 56,
      "outputs": [
        {
          "output_type": "stream",
          "name": "stdout",
          "text": [
            "[[0.         0.         0.16326531 0.24489796 0.85714286 0.28571429]\n",
            " [0.3877551  0.20408163 0.65306122 0.14285714 0.46938776 1.        ]\n",
            " [0.         0.         0.79591837 0.6122449  0.         0.55102041]\n",
            " [0.         0.51020408 0.87755102 0.         0.         0.        ]\n",
            " [0.         0.         0.14285714 0.20408163 0.         0.        ]\n",
            " [0.         0.24489796 0.         0.         0.         0.        ]]\n"
          ]
        }
      ]
    },
    {
      "cell_type": "code",
      "source": [
        "dia=np.diagonal(matrix)\n",
        "print(dia)"
      ],
      "metadata": {
        "colab": {
          "base_uri": "https://localhost:8080/"
        },
        "id": "Kq2mtwTZT0iE",
        "outputId": "c8392767-642d-48d9-fc9a-a056b5c43bfe"
      },
      "execution_count": 57,
      "outputs": [
        {
          "output_type": "stream",
          "name": "stdout",
          "text": [
            "[-1 19 77 -1 -1 -1]\n"
          ]
        }
      ]
    },
    {
      "cell_type": "code",
      "source": [
        "dotproduct=np.dot(dia,dia)\n",
        "print(dotproduct)"
      ],
      "metadata": {
        "colab": {
          "base_uri": "https://localhost:8080/"
        },
        "id": "Ur1YXV1JUSzX",
        "outputId": "3c800518-4dcd-4ebb-99c5-3fe323448708"
      },
      "execution_count": 58,
      "outputs": [
        {
          "output_type": "stream",
          "name": "stdout",
          "text": [
            "6294\n"
          ]
        }
      ]
    },
    {
      "cell_type": "code",
      "source": [
        "dotproduct=dia@dia\n",
        "print(dotproduct)"
      ],
      "metadata": {
        "colab": {
          "base_uri": "https://localhost:8080/"
        },
        "id": "9LTEUMdSUian",
        "outputId": "8355f4f0-fdc7-46bb-b6a5-bf7d057bb161"
      },
      "execution_count": 59,
      "outputs": [
        {
          "output_type": "stream",
          "name": "stdout",
          "text": [
            "6294\n"
          ]
        }
      ]
    },
    {
      "cell_type": "code",
      "source": [
        "inv=np.linalg.inv(matrix)\n",
        "print(inv)"
      ],
      "metadata": {
        "colab": {
          "base_uri": "https://localhost:8080/"
        },
        "id": "W9iTHfayUzod",
        "outputId": "a6331911-d4bd-4b1a-b649-326a62acc34f"
      },
      "execution_count": 60,
      "outputs": [
        {
          "output_type": "stream",
          "name": "stdout",
          "text": [
            "[[-1.46118379e-02  2.84242977e-02 -4.25245630e-02  3.06378555e-05\n",
            "   1.29217052e-01 -2.04122722e-02]\n",
            " [-1.20803363e-04  1.26843531e-03 -1.34673379e-03 -6.86425310e-05\n",
            "   5.70728777e-03  4.27609984e-02]\n",
            " [ 3.65219469e-05 -3.83480443e-04  4.07152075e-04  1.16486594e-02\n",
            "  -1.72545909e-03 -2.45556507e-02]\n",
            " [-1.70529398e-04  1.79055868e-03 -1.90108700e-03 -8.23643260e-03\n",
            "   5.80565667e-02  1.85021536e-02]\n",
            " [ 1.18843352e-02  2.14480596e-04 -6.40055965e-03  2.68311449e-03\n",
            "   5.19785343e-03 -5.42896140e-03]\n",
            " [ 8.30328025e-05 -8.71844426e-04  1.94441805e-02 -7.70475733e-03\n",
            "  -5.94783942e-02  1.53976945e-02]]\n"
          ]
        }
      ]
    },
    {
      "cell_type": "code",
      "source": [
        "det=np.linalg.det(matrix)\n",
        "print(det)"
      ],
      "metadata": {
        "colab": {
          "base_uri": "https://localhost:8080/"
        },
        "id": "VLvTSKC2VWEk",
        "outputId": "1ca284e4-1575-423e-ddb2-00345c50904c"
      },
      "execution_count": 61,
      "outputs": [
        {
          "output_type": "stream",
          "name": "stdout",
          "text": [
            "-6150822143.999996\n"
          ]
        }
      ]
    },
    {
      "cell_type": "code",
      "source": [
        "if det!=0:\n",
        "  x=np.linalg.inv(matrix)\n",
        "  print(x)\n",
        "  print(det)\n",
        "\n",
        "else:\n",
        "  print(\"matrix is not invertiable\")\n",
        ""
      ],
      "metadata": {
        "colab": {
          "base_uri": "https://localhost:8080/"
        },
        "id": "Ge7o1RzpVdeN",
        "outputId": "2dd39e79-660e-4ae3-f9ef-f3949e8ed5d1"
      },
      "execution_count": 65,
      "outputs": [
        {
          "output_type": "stream",
          "name": "stdout",
          "text": [
            "[[-1.46118379e-02  2.84242977e-02 -4.25245630e-02  3.06378555e-05\n",
            "   1.29217052e-01 -2.04122722e-02]\n",
            " [-1.20803363e-04  1.26843531e-03 -1.34673379e-03 -6.86425310e-05\n",
            "   5.70728777e-03  4.27609984e-02]\n",
            " [ 3.65219469e-05 -3.83480443e-04  4.07152075e-04  1.16486594e-02\n",
            "  -1.72545909e-03 -2.45556507e-02]\n",
            " [-1.70529398e-04  1.79055868e-03 -1.90108700e-03 -8.23643260e-03\n",
            "   5.80565667e-02  1.85021536e-02]\n",
            " [ 1.18843352e-02  2.14480596e-04 -6.40055965e-03  2.68311449e-03\n",
            "   5.19785343e-03 -5.42896140e-03]\n",
            " [ 8.30328025e-05 -8.71844426e-04  1.94441805e-02 -7.70475733e-03\n",
            "  -5.94783942e-02  1.53976945e-02]]\n",
            "-6150822143.999996\n"
          ]
        }
      ]
    },
    {
      "cell_type": "code",
      "source": [
        "y=matrix[matrix>matrix.mean()]\n",
        "print(y)"
      ],
      "metadata": {
        "colab": {
          "base_uri": "https://localhost:8080/"
        },
        "id": "xZoL58quWFI8",
        "outputId": "140a7c50-2ba4-45db-c2a3-b92a296d28a0"
      },
      "execution_count": 67,
      "outputs": [
        {
          "output_type": "stream",
          "name": "stdout",
          "text": [
            "[23 83 27 37 63 45 97 77 59 53 49 85 23]\n"
          ]
        }
      ]
    },
    {
      "cell_type": "code",
      "source": [
        "print(y.size)"
      ],
      "metadata": {
        "colab": {
          "base_uri": "https://localhost:8080/"
        },
        "id": "Z2q20p60XK4L",
        "outputId": "18726ab8-54e6-4d0b-c5e8-4500c21c4646"
      },
      "execution_count": 70,
      "outputs": [
        {
          "output_type": "stream",
          "name": "stdout",
          "text": [
            "13\n"
          ]
        }
      ]
    },
    {
      "cell_type": "code",
      "source": [
        "y2=np.unique(matrix)\n",
        "print(y2)"
      ],
      "metadata": {
        "colab": {
          "base_uri": "https://localhost:8080/"
        },
        "id": "iAV-naWiXjJP",
        "outputId": "e0842cba-868e-4762-fc71-708aa48d933b"
      },
      "execution_count": 71,
      "outputs": [
        {
          "output_type": "stream",
          "name": "stdout",
          "text": [
            "[-1 13 15 19 23 27 37 45 49 53 59 63 77 83 85 97]\n"
          ]
        }
      ]
    },
    {
      "cell_type": "code",
      "source": [
        "x=np.sort(matrix,axis=1)\n",
        "print(x)"
      ],
      "metadata": {
        "colab": {
          "base_uri": "https://localhost:8080/"
        },
        "id": "rexhJhONXvdz",
        "outputId": "1fba0733-f947-4229-8f32-369c458ca920"
      },
      "execution_count": 72,
      "outputs": [
        {
          "output_type": "stream",
          "name": "stdout",
          "text": [
            "[[-1 -1 15 23 27 83]\n",
            " [13 19 37 45 63 97]\n",
            " [-1 -1 -1 53 59 77]\n",
            " [-1 -1 -1 -1 49 85]\n",
            " [-1 -1 -1 -1 13 19]\n",
            " [-1 -1 -1 -1 -1 23]]\n"
          ]
        }
      ]
    }
  ]
}